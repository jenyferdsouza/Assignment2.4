{
 "cells": [
  {
   "cell_type": "code",
   "execution_count": 3,
   "metadata": {},
   "outputs": [],
   "source": [
    "#Problem Statement 2:  \n",
    "#Write a function filter_long_words() that takes a list of words and an integer n and returns the list of words that are longer than n. "
   ]
  },
  {
   "cell_type": "code",
   "execution_count": 9,
   "metadata": {},
   "outputs": [
    {
     "name": "stdout",
     "output_type": "stream",
     "text": [
      "['member', 'supplementary', 'buffet', 'linear', 'conventional', 'bottle', 'illustrate']\n"
     ]
    }
   ],
   "source": [
    "def filter_long_words(lstchk,numchk):\n",
    "    newlst=list()\n",
    "    for wrd in lstchk:\n",
    "        if (len(wrd)>numchk):\n",
    "            newlst.append(wrd)\n",
    "    return newlst\n",
    "            \n",
    "lst=['weak','shift','member','wind','supplementary','siege','eat','buffet','linear','conventional','bottle','bow','illustrate','palm','air']\n",
    "            \n",
    "print(filter_long_words(lst,5))    "
   ]
  }
 ],
 "metadata": {
  "kernelspec": {
   "display_name": "Python 3",
   "language": "python",
   "name": "python3"
  },
  "language_info": {
   "codemirror_mode": {
    "name": "ipython",
    "version": 3
   },
   "file_extension": ".py",
   "mimetype": "text/x-python",
   "name": "python",
   "nbconvert_exporter": "python",
   "pygments_lexer": "ipython3",
   "version": "3.6.3"
  }
 },
 "nbformat": 4,
 "nbformat_minor": 2
}
