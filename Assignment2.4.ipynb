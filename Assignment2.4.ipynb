{
 "cells": [
  {
   "cell_type": "code",
   "execution_count": null,
   "metadata": {
    "collapsed": true
   },
   "outputs": [],
   "source": [
    "#Write a Python Program(with class concepts) to find the area of the triangle using the below formula.  \n",
    "#area = (s*(s-a)*(s-b)*(s-c)) ** 0.5  \n",
    "#Function to take the length of the sides of triangle from user should be defined in the parent class and function to calculate the area should be defined in subclass. "
   ]
  },
  {
   "cell_type": "code",
   "execution_count": 16,
   "metadata": {},
   "outputs": [
    {
     "name": "stdout",
     "output_type": "stream",
     "text": [
      "Enter the sides 1: 12\n",
      "Enter the sides 2: 12\n",
      "Enter the sides 3: 12\n",
      "The area of the triangle is: 62.353829\n"
     ]
    }
   ],
   "source": [
    "#area = (s*(s-a)*(s-b)*(s-c)) ** 0.5 \n",
    "\n",
    "class triangle():\n",
    "    def __init__ (self):\n",
    "        self.side[0]=side[0]\n",
    "        self.side[1]=side[1]\n",
    "        self.side[2]=side[2]\n",
    "\n",
    "\n",
    "    def inputsides(self):\n",
    "        self.side=[]\n",
    "        for i in range(3):\n",
    "            self.side.append(int(input(\"Enter the sides %d: \" %(i+1))))\n",
    "        return self.side\n",
    "    \n",
    "class area(triangle):\n",
    "    def __init__(self):\n",
    "        super(area).__init__()\n",
    "\n",
    "        \n",
    "    def calculate(self):\n",
    "        half_peri=(self.side[0]+self.side[1]+self.side[2])/2\n",
    "        area=(half_peri*(half_peri-self.side[0])*(half_peri-self.side[1])*(half_peri-self.side[2]))**0.5\n",
    "        return area\n",
    "            \n",
    "triangleinput=area()\n",
    "triangleinput.inputsides()\n",
    "print(\"The area of the triangle is: %f\" %(triangleinput.calculate()))\n",
    "\n"
   ]
  }
 ],
 "metadata": {
  "kernelspec": {
   "display_name": "Python 3",
   "language": "python",
   "name": "python3"
  },
  "language_info": {
   "codemirror_mode": {
    "name": "ipython",
    "version": 3
   },
   "file_extension": ".py",
   "mimetype": "text/x-python",
   "name": "python",
   "nbconvert_exporter": "python",
   "pygments_lexer": "ipython3",
   "version": "3.6.3"
  }
 },
 "nbformat": 4,
 "nbformat_minor": 2
}
